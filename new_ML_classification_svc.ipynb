{
 "cells": [
  {
   "cell_type": "code",
   "execution_count": 1,
   "id": "e5bef423",
   "metadata": {},
   "outputs": [],
   "source": [
    "import numpy as np\n",
    "import pandas as pd"
   ]
  },
  {
   "cell_type": "code",
   "execution_count": 2,
   "id": "d6ac2d41",
   "metadata": {},
   "outputs": [
    {
     "name": "stdout",
     "output_type": "stream",
     "text": [
      "feature shape (23160, 60)\n",
      "target shape (23160,)\n"
     ]
    }
   ],
   "source": [
    "# path\n",
    "inputFolder = r\"/Volumes/Mingyue_Plu/deltaN1E4/Mingyue_analysis_2/smapling/undersampling\"\n",
    "folderseparator = \"/\"\n",
    "X = []\n",
    "y = []\n",
    "for i in range(121,131):#131\n",
    "    myFFN = \"sim%d_undersamp_x.csv\" % (i)\n",
    "    filenamex = inputFolder + folderseparator + myFFN\n",
    "    df = pd.read_csv(filenamex)\n",
    "    XX = df.iloc[:,0:60]\n",
    "    X.append(XX)\n",
    "\n",
    "    myTFN = \"sim%d_undersamp_y.csv\" % (i)\n",
    "    filenamey = inputFolder + folderseparator + myTFN\n",
    "    dt = pd.read_csv(filenamey)\n",
    "    yy = dt.iloc[:,0]\n",
    "    y.append(yy)\n",
    "\n",
    "X = np.concatenate(X)\n",
    "y = np.concatenate(y)\n",
    "print('feature shape',X.shape)\n",
    "print('target shape', y.shape)"
   ]
  },
  {
   "cell_type": "code",
   "execution_count": 3,
   "id": "993eac9d",
   "metadata": {},
   "outputs": [
    {
     "name": "stdout",
     "output_type": "stream",
     "text": [
      "(16212, 10)\n"
     ]
    }
   ],
   "source": [
    "features_select = [9, 0, 2, 22, 50, 48, 11, 3, 52, 38] #[50,49,17,31,35,43,22,0,1,16]\n",
    "\n",
    "X2 = X[:,features_select]\n",
    "X2.shape\n",
    "\n",
    "from sklearn.model_selection import train_test_split\n",
    "rseed = 0\n",
    "X_train, X_test, y_train, y_test = train_test_split(X2, y, test_size = 0.3,stratify = y,random_state = rseed)\n",
    "print(X_train.shape)"
   ]
  },
  {
   "cell_type": "code",
   "execution_count": 4,
   "id": "e0fc5acf",
   "metadata": {},
   "outputs": [],
   "source": [
    "from sklearn.svm import SVC\n",
    "from sklearn.model_selection import StratifiedKFold\n",
    "from sklearn.preprocessing import StandardScaler\n",
    "from imblearn.pipeline import make_pipeline\n",
    "from sklearn.model_selection import RandomizedSearchCV\n",
    "from sklearn.model_selection import RepeatedStratifiedKFold\n",
    "from sklearn.model_selection import cross_validate\n",
    "scaling = StandardScaler()\n",
    "model =  SVC(random_state=rseed, probability=True)\n",
    "pipeline = make_pipeline(scaling,model)"
   ]
  },
  {
   "cell_type": "code",
   "execution_count": 5,
   "id": "ea3a4f26",
   "metadata": {},
   "outputs": [
    {
     "name": "stdout",
     "output_type": "stream",
     "text": [
      "0.7101635505174051\n",
      "{'svc__kernel': 'rbf', 'svc__gamma': 0.01, 'svc__C': 10.0}\n",
      "Mean Test Accuracy Class 1: = 0.6852\n",
      "Mean Test Accuracy Class 0: = 0.7323\n"
     ]
    }
   ],
   "source": [
    "cv = StratifiedKFold(n_splits=5)\n",
    "\n",
    "param_range_C = [1.0, 10.0, 100.0, 1000.0]\n",
    "param_range_gamma = [0.0001, 0.001, 0.01, 0.1]\n",
    "\n",
    "param_grid = [{'svc__C': param_range_C, \n",
    "               'svc__gamma': param_range_gamma, \n",
    "               'svc__kernel': ['rbf']}]\n",
    "\n",
    "gs = RandomizedSearchCV(estimator=pipeline, \n",
    "                  param_distributions=param_grid, \n",
    "                  scoring='balanced_accuracy',#'balanced_accuracy', \n",
    "                \n",
    "                  cv=cv)\n",
    "\n",
    "gs = gs.fit(X_train, y_train)\n",
    "print(gs.best_score_)\n",
    "print(gs.best_params_)\n",
    "\n",
    "cv = RepeatedStratifiedKFold(n_splits=5, n_repeats=4, random_state=rseed)\n",
    "\n",
    "cv_results = cross_validate(gs.best_estimator_, X_train, y_train, scoring=('recall', 'balanced_accuracy'), cv=cv, n_jobs=-1)\n",
    "    \n",
    "acc_class1 = cv_results['test_recall'].mean()\n",
    "acc_avg = cv_results['test_balanced_accuracy'].mean()\n",
    "acc_class0 = (2*acc_avg - acc_class1).mean()\n",
    "\n",
    "print('Mean Test Accuracy Class 1: = %.4f' % (acc_class1))\n",
    "print('Mean Test Accuracy Class 0: = %.4f' % (acc_class0))"
   ]
  },
  {
   "cell_type": "code",
   "execution_count": 6,
   "id": "27720b67",
   "metadata": {},
   "outputs": [
    {
     "name": "stdout",
     "output_type": "stream",
     "text": [
      "Training set score-balanced accuracy: 0.7122611639938503\n",
      "Test set score-balanced accuracy: 0.7169006125361732\n"
     ]
    }
   ],
   "source": [
    "print('Training set score-balanced accuracy: ' + str(gs.score(X_train, y_train)))\n",
    "print('Test set score-balanced accuracy: ' + str(gs.score(X_test, y_test)))"
   ]
  },
  {
   "cell_type": "code",
   "execution_count": null,
   "id": "de25f2ea",
   "metadata": {},
   "outputs": [],
   "source": [
    "import csv\n",
    "i=1\n",
    "new = \"features_sim121_%dL.csv\" % (i)\n",
    "path = r\"/Volumes/Mingyue_Plu/deltaN1E4/Mingyue_analysis/feature/sim121_run1_L_all_features_csv\"\n",
    "file_csv = path + folderseparator + new\n",
    "new_feature= pd.read_csv(file_csv, sep=',',header = None)\n",
    "tt = new_feature.to_numpy()\n",
    "new_feature2 = tt[:,features_select]\n",
    "syn_pred = gs.best_estimator_.predict(new_feature2)\n",
    "syn_pred_prob = gs.best_estimator_.predict_proba(new_feature2)\n",
    "round_off_predictions = np.around(syn_pred_prob, decimals = 4)\n",
    "file = open(r'sim121_%dL_pre_prob.csv'% (i), 'w+', newline ='') \n",
    "with file:     \n",
    "    write = csv.writer(file) \n",
    "    write.writerows(syn_pred_prob)"
   ]
  },
  {
   "cell_type": "code",
   "execution_count": null,
   "id": "7702ce32",
   "metadata": {},
   "outputs": [],
   "source": [
    "import csv\n",
    "for i in range(1,1001):\n",
    "    new = \"features_sim121_%dL.csv\" % (i)\n",
    "    path = r\"/Volumes/Mingyue_Plu/deltaN1E4/Mingyue_analysis/feature/sim121_run1_L_all_features_csv\"\n",
    "    file_csv = path + folderseparator + new\n",
    "    new_feature= pd.read_csv(file_csv, sep=',',header = None)\n",
    "    tt = new_feature.to_numpy()\n",
    "    new_feature2 = tt[:,features_select]\n",
    "    syn_pred = gs.best_estimator_.predict(new_feature2)\n",
    "    syn_pred_prob = gs.best_estimator_.predict_proba(new_feature2)\n",
    "    round_off_predictions = np.around(syn_pred_prob, decimals = 4)\n",
    "    file = open(r'sim121_%dL_pre_prob.csv'% (i), 'w+', newline ='') \n",
    "    with file:\n",
    "        write = csv.writer(file) \n",
    "        write.writerows(syn_pred_prob)"
   ]
  },
  {
   "cell_type": "code",
   "execution_count": 7,
   "id": "097a3389",
   "metadata": {},
   "outputs": [],
   "source": [
    "from sklearn.metrics import confusion_matrix\n",
    "inputFolder = r\"/Volumes/Mingyue_Plu/deltaN1E4/Mingyue_analysis_2\"\n",
    "folderseparator = \"/\"\n",
    "for i in range(121,122):#131\n",
    "    myFN = 'sim%d_d2min_tho015_int1.csv' % (i)\n",
    "    filename = inputFolder + folderseparator + myFN\n",
    "    df = pd.read_csv(filename,header = None)\n",
    "    Xnew = df.iloc[:,features_select]\n",
    "    Xnew = Xnew.values\n",
    "    ynew = df.iloc[:,60]\n",
    "    ynew = ynew.values\n",
    "    syn_pred = gs.best_estimator_.predict(Xnew)"
   ]
  },
  {
   "cell_type": "code",
   "execution_count": 8,
   "id": "14fbf181",
   "metadata": {},
   "outputs": [
    {
     "data": {
      "image/png": "[encoded data removed]",
      "text/plain": [
       "<Figure size 432x288 with 2 Axes>"
      ]
     },
     "metadata": {
      "needs_background": "light"
     },
     "output_type": "display_data"
    }
   ],
   "source": [
    "from sklearn.metrics import confusion_matrix, ConfusionMatrixDisplay\n",
    "import matplotlib.pyplot as plt\n",
    "\n",
    "cm = confusion_matrix(ynew, syn_pred)\n",
    "disp = ConfusionMatrixDisplay(confusion_matrix=cm)\n",
    "disp.plot()\n",
    "plt.show()\n"
   ]
  },
  {
   "cell_type": "code",
   "execution_count": 9,
   "id": "49256e6a",
   "metadata": {},
   "outputs": [
    {
     "data": {
      "text/plain": [
       "0.7184933250221943"
      ]
     },
     "execution_count": 9,
     "metadata": {},
     "output_type": "execute_result"
    }
   ],
   "source": [
    "from sklearn.metrics import roc_auc_score\n",
    "roc_auc_score(ynew, syn_pred, average=None)"
   ]
  },
  {
   "cell_type": "code",
   "execution_count": null,
   "id": "8741cbee",
   "metadata": {},
   "outputs": [],
   "source": []
  }
 ],
 "metadata": {
  "kernelspec": {
   "display_name": "Python 3",
   "language": "python",
   "name": "python3"
  },
  "language_info": {
   "codemirror_mode": {
    "name": "ipython",
    "version": 3
   },
   "file_extension": ".py",
   "mimetype": "text/x-python",
   "name": "python",
   "nbconvert_exporter": "python",
   "pygments_lexer": "ipython3",
   "version": "3.8.8"
  }
 },
 "nbformat": 4,
 "nbformat_minor": 5
}
